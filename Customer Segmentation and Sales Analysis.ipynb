{
 "cells": [
  {
   "cell_type": "markdown",
   "id": "f8164fb1",
   "metadata": {},
   "source": [
    "# DATA CLEANING"
   ]
  },
  {
   "cell_type": "code",
   "execution_count": 52,
   "id": "01a8872c",
   "metadata": {},
   "outputs": [
    {
     "name": "stdout",
     "output_type": "stream",
     "text": [
      "<class 'pandas.core.frame.DataFrame'>\n",
      "RangeIndex: 363 entries, 0 to 362\n",
      "Data columns (total 10 columns):\n",
      " #   Column        Non-Null Count  Dtype  \n",
      "---  ------        --------------  -----  \n",
      " 0   Customer ID   363 non-null    object \n",
      " 1   Order ID      363 non-null    object \n",
      " 2   Order Date    363 non-null    object \n",
      " 3   Product ID    363 non-null    object \n",
      " 4   Product Name  363 non-null    object \n",
      " 5   Category      363 non-null    object \n",
      " 6   Quantity      363 non-null    int64  \n",
      " 7   Unit Price    363 non-null    float64\n",
      " 8   Region        363 non-null    object \n",
      " 9   Total Amount  363 non-null    float64\n",
      "dtypes: float64(2), int64(1), object(7)\n",
      "memory usage: 28.5+ KB\n"
     ]
    },
    {
     "data": {
      "text/plain": [
       "(                            Customer ID                              Order ID  \\\n",
       " 0  8a80ddb1-8615-4452-adce-db56c9385365  d929f0c8-5600-456b-9360-ae114e339871   \n",
       " 1  ac664d43-893a-47a1-bdd7-139f73a360a7  38d57142-b1f3-4b25-ae2e-e7404d2df736   \n",
       " 2  ebbc4ba3-d24f-4e25-a585-15c8e6bacbd7  58a7f2a2-5682-4510-b94e-cb56d076880d   \n",
       " 3  5f3f88e8-b638-4cfd-9af8-e14b63d9082f  12af190c-f3a3-4209-b7a7-fa7a66337df8   \n",
       " 4  2029cf6c-dd8e-430c-ae24-586d3a5f422a  d283a232-0b04-49e9-bad3-6dcfd115b421   \n",
       " \n",
       "    Order Date                            Product ID Product Name     Category  \\\n",
       " 0  2021-12-25  9c485900-229d-4b96-ac99-374754d40e1c      T-shirt  Accessories   \n",
       " 1  2022-10-08  3ff68652-ba71-4610-9284-71f778fd2819   Smartphone     Clothing   \n",
       " 2  2022-11-30  99ad1f2f-fa2e-4b27-8952-7b23249eeebc      T-shirt        Books   \n",
       " 3  2023-02-12  b767b606-a5c1-46fc-83fa-78de163b8fce        Watch     Clothing   \n",
       " 4  2023-02-17  15baeab4-63b9-4b98-a52f-40697bcd0c0f        Watch  Accessories   \n",
       " \n",
       "    Quantity  Unit Price Region  Total Amount  \n",
       " 0         2       55.23  North        110.46  \n",
       " 1         1      217.55  South        217.55  \n",
       " 2         5      145.57   West        727.85  \n",
       " 3         4       11.74  North         46.96  \n",
       " 4         4      387.85   East       1551.40  ,\n",
       " None,\n",
       " Customer ID     0\n",
       " Order ID        0\n",
       " Order Date      0\n",
       " Product ID      0\n",
       " Product Name    0\n",
       " Category        0\n",
       " Quantity        0\n",
       " Unit Price      0\n",
       " Region          0\n",
       " Total Amount    0\n",
       " dtype: int64,\n",
       " 0)"
      ]
     },
     "execution_count": 52,
     "metadata": {},
     "output_type": "execute_result"
    }
   ],
   "source": [
    "import pandas as pd\n",
    "\n",
    "# Load the dataset to examine the structure and identify any missing values or duplicates\n",
    "sales_data = pd.read_csv('sales_data.csv')\n",
    "\n",
    "# Display the first few rows of the dataset and get basic info\n",
    "sales_data_head = sales_data.head()\n",
    "sales_data_info = sales_data.info()\n",
    "missing_values = sales_data.isnull().sum()\n",
    "duplicates = sales_data.duplicated().sum()\n",
    "\n",
    "sales_data_head, sales_data_info, missing_values, duplicates\n"
   ]
  },
  {
   "cell_type": "markdown",
   "id": "8af70c7a",
   "metadata": {},
   "source": [
    "# Customer Segmentation (RFM Analysis)"
   ]
  },
  {
   "cell_type": "code",
   "execution_count": 53,
   "id": "da3bd3b3",
   "metadata": {},
   "outputs": [
    {
     "data": {
      "text/plain": [
       "dtype('<M8[ns]')"
      ]
     },
     "execution_count": 53,
     "metadata": {},
     "output_type": "execute_result"
    }
   ],
   "source": [
    "# Standardize the date format in the 'Order Date' column\n",
    "sales_data['Order Date'] = pd.to_datetime(sales_data['Order Date'], format='%Y-%m-%d')\n",
    "\n",
    "# Confirm the change by checking the data type of the 'Order Date' column\n",
    "sales_data.dtypes['Order Date']\n"
   ]
  },
  {
   "cell_type": "code",
   "execution_count": 54,
   "id": "39150b21",
   "metadata": {},
   "outputs": [
    {
     "data": {
      "text/html": [
       "<div>\n",
       "<style scoped>\n",
       "    .dataframe tbody tr th:only-of-type {\n",
       "        vertical-align: middle;\n",
       "    }\n",
       "\n",
       "    .dataframe tbody tr th {\n",
       "        vertical-align: top;\n",
       "    }\n",
       "\n",
       "    .dataframe thead th {\n",
       "        text-align: right;\n",
       "    }\n",
       "</style>\n",
       "<table border=\"1\" class=\"dataframe\">\n",
       "  <thead>\n",
       "    <tr style=\"text-align: right;\">\n",
       "      <th></th>\n",
       "      <th>Customer ID</th>\n",
       "      <th>Recency</th>\n",
       "      <th>Frequency</th>\n",
       "      <th>Monetary</th>\n",
       "    </tr>\n",
       "  </thead>\n",
       "  <tbody>\n",
       "    <tr>\n",
       "      <th>0</th>\n",
       "      <td>005612ec-5aea-48d6-9a6d-cdf0f538f4da</td>\n",
       "      <td>442</td>\n",
       "      <td>1</td>\n",
       "      <td>720.52</td>\n",
       "    </tr>\n",
       "    <tr>\n",
       "      <th>1</th>\n",
       "      <td>01329251-44d2-4ed4-b3cb-0d6b13a4712f</td>\n",
       "      <td>184</td>\n",
       "      <td>1</td>\n",
       "      <td>3356.50</td>\n",
       "    </tr>\n",
       "    <tr>\n",
       "      <th>2</th>\n",
       "      <td>015cda0c-7c05-45ab-8438-ac338a7db94c</td>\n",
       "      <td>511</td>\n",
       "      <td>1</td>\n",
       "      <td>1641.24</td>\n",
       "    </tr>\n",
       "    <tr>\n",
       "      <th>3</th>\n",
       "      <td>018c6e2c-9c84-45e1-991b-9310c5e174a5</td>\n",
       "      <td>254</td>\n",
       "      <td>1</td>\n",
       "      <td>2746.70</td>\n",
       "    </tr>\n",
       "    <tr>\n",
       "      <th>4</th>\n",
       "      <td>02167aaa-8387-4e7e-b1fe-30c87b9a52ed</td>\n",
       "      <td>386</td>\n",
       "      <td>1</td>\n",
       "      <td>2010.51</td>\n",
       "    </tr>\n",
       "  </tbody>\n",
       "</table>\n",
       "</div>"
      ],
      "text/plain": [
       "                            Customer ID  Recency  Frequency  Monetary\n",
       "0  005612ec-5aea-48d6-9a6d-cdf0f538f4da      442          1    720.52\n",
       "1  01329251-44d2-4ed4-b3cb-0d6b13a4712f      184          1   3356.50\n",
       "2  015cda0c-7c05-45ab-8438-ac338a7db94c      511          1   1641.24\n",
       "3  018c6e2c-9c84-45e1-991b-9310c5e174a5      254          1   2746.70\n",
       "4  02167aaa-8387-4e7e-b1fe-30c87b9a52ed      386          1   2010.51"
      ]
     },
     "execution_count": 54,
     "metadata": {},
     "output_type": "execute_result"
    }
   ],
   "source": [
    "# Calculate Recency, Frequency, and Monetary value for each customer\n",
    "\n",
    "# Current date to calculate Recency (assuming the last date in the dataset as a reference point)\n",
    "current_date = sales_data['Order Date'].max()\n",
    "\n",
    "# RFM calculations\n",
    "rfm_data = sales_data.groupby('Customer ID').agg({\n",
    "    'Order Date': lambda x: (current_date - x.max()).days,  # Recency\n",
    "    'Order ID': 'count',  # Frequency\n",
    "    'Total Amount': 'sum'  # Monetary\n",
    "}).reset_index()\n",
    "\n",
    "# Rename the columns for clarity\n",
    "rfm_data.columns = ['Customer ID', 'Recency', 'Frequency', 'Monetary']\n",
    "\n",
    "# Display the first few rows of the RFM data\n",
    "rfm_data.head()\n"
   ]
  },
  {
   "cell_type": "code",
   "execution_count": 55,
   "id": "0e08b008",
   "metadata": {},
   "outputs": [
    {
     "data": {
      "text/html": [
       "<div>\n",
       "<style scoped>\n",
       "    .dataframe tbody tr th:only-of-type {\n",
       "        vertical-align: middle;\n",
       "    }\n",
       "\n",
       "    .dataframe tbody tr th {\n",
       "        vertical-align: top;\n",
       "    }\n",
       "\n",
       "    .dataframe thead th {\n",
       "        text-align: right;\n",
       "    }\n",
       "</style>\n",
       "<table border=\"1\" class=\"dataframe\">\n",
       "  <thead>\n",
       "    <tr style=\"text-align: right;\">\n",
       "      <th></th>\n",
       "      <th>Customer ID</th>\n",
       "      <th>Recency</th>\n",
       "      <th>Frequency</th>\n",
       "      <th>Monetary</th>\n",
       "      <th>Recency_Segment</th>\n",
       "      <th>Frequency_Segment</th>\n",
       "      <th>Monetary_Segment</th>\n",
       "      <th>Customer_Segment</th>\n",
       "    </tr>\n",
       "  </thead>\n",
       "  <tbody>\n",
       "    <tr>\n",
       "      <th>0</th>\n",
       "      <td>005612ec-5aea-48d6-9a6d-cdf0f538f4da</td>\n",
       "      <td>442</td>\n",
       "      <td>1</td>\n",
       "      <td>720.52</td>\n",
       "      <td>Low-Value</td>\n",
       "      <td>Low</td>\n",
       "      <td>Medium</td>\n",
       "      <td>RLow-Value-FLow-MMedium</td>\n",
       "    </tr>\n",
       "    <tr>\n",
       "      <th>1</th>\n",
       "      <td>01329251-44d2-4ed4-b3cb-0d6b13a4712f</td>\n",
       "      <td>184</td>\n",
       "      <td>1</td>\n",
       "      <td>3356.50</td>\n",
       "      <td>High-Value</td>\n",
       "      <td>Low</td>\n",
       "      <td>Very High</td>\n",
       "      <td>RHigh-Value-FLow-MVery High</td>\n",
       "    </tr>\n",
       "    <tr>\n",
       "      <th>2</th>\n",
       "      <td>015cda0c-7c05-45ab-8438-ac338a7db94c</td>\n",
       "      <td>511</td>\n",
       "      <td>1</td>\n",
       "      <td>1641.24</td>\n",
       "      <td>Low-Value</td>\n",
       "      <td>Low</td>\n",
       "      <td>High</td>\n",
       "      <td>RLow-Value-FLow-MHigh</td>\n",
       "    </tr>\n",
       "    <tr>\n",
       "      <th>3</th>\n",
       "      <td>018c6e2c-9c84-45e1-991b-9310c5e174a5</td>\n",
       "      <td>254</td>\n",
       "      <td>1</td>\n",
       "      <td>2746.70</td>\n",
       "      <td>Medium-Value</td>\n",
       "      <td>Low</td>\n",
       "      <td>Very High</td>\n",
       "      <td>RMedium-Value-FLow-MVery High</td>\n",
       "    </tr>\n",
       "    <tr>\n",
       "      <th>4</th>\n",
       "      <td>02167aaa-8387-4e7e-b1fe-30c87b9a52ed</td>\n",
       "      <td>386</td>\n",
       "      <td>1</td>\n",
       "      <td>2010.51</td>\n",
       "      <td>Low-Value</td>\n",
       "      <td>Low</td>\n",
       "      <td>High</td>\n",
       "      <td>RLow-Value-FLow-MHigh</td>\n",
       "    </tr>\n",
       "    <tr>\n",
       "      <th>5</th>\n",
       "      <td>02406387-ff72-4721-93d8-f102e869c4b7</td>\n",
       "      <td>725</td>\n",
       "      <td>1</td>\n",
       "      <td>859.60</td>\n",
       "      <td>At-Risk</td>\n",
       "      <td>Low</td>\n",
       "      <td>Medium</td>\n",
       "      <td>RAt-Risk-FLow-MMedium</td>\n",
       "    </tr>\n",
       "    <tr>\n",
       "      <th>6</th>\n",
       "      <td>03693cb7-c0c4-4d76-9b8e-4326b964e2b6</td>\n",
       "      <td>645</td>\n",
       "      <td>1</td>\n",
       "      <td>3061.52</td>\n",
       "      <td>At-Risk</td>\n",
       "      <td>Low</td>\n",
       "      <td>Very High</td>\n",
       "      <td>RAt-Risk-FLow-MVery High</td>\n",
       "    </tr>\n",
       "    <tr>\n",
       "      <th>7</th>\n",
       "      <td>03e71c3f-6f5e-441b-971d-000721a0651d</td>\n",
       "      <td>366</td>\n",
       "      <td>1</td>\n",
       "      <td>196.39</td>\n",
       "      <td>Low-Value</td>\n",
       "      <td>Low</td>\n",
       "      <td>Low</td>\n",
       "      <td>RLow-Value-FLow-MLow</td>\n",
       "    </tr>\n",
       "    <tr>\n",
       "      <th>8</th>\n",
       "      <td>048dcc59-2b7a-4edb-8d7b-1b847411b658</td>\n",
       "      <td>458</td>\n",
       "      <td>1</td>\n",
       "      <td>3116.00</td>\n",
       "      <td>Low-Value</td>\n",
       "      <td>Low</td>\n",
       "      <td>Very High</td>\n",
       "      <td>RLow-Value-FLow-MVery High</td>\n",
       "    </tr>\n",
       "    <tr>\n",
       "      <th>9</th>\n",
       "      <td>04e780a1-dcff-4fc5-8f2a-7ed055f27220</td>\n",
       "      <td>600</td>\n",
       "      <td>1</td>\n",
       "      <td>2180.56</td>\n",
       "      <td>At-Risk</td>\n",
       "      <td>Low</td>\n",
       "      <td>Very High</td>\n",
       "      <td>RAt-Risk-FLow-MVery High</td>\n",
       "    </tr>\n",
       "  </tbody>\n",
       "</table>\n",
       "</div>"
      ],
      "text/plain": [
       "                            Customer ID  Recency  Frequency  Monetary  \\\n",
       "0  005612ec-5aea-48d6-9a6d-cdf0f538f4da      442          1    720.52   \n",
       "1  01329251-44d2-4ed4-b3cb-0d6b13a4712f      184          1   3356.50   \n",
       "2  015cda0c-7c05-45ab-8438-ac338a7db94c      511          1   1641.24   \n",
       "3  018c6e2c-9c84-45e1-991b-9310c5e174a5      254          1   2746.70   \n",
       "4  02167aaa-8387-4e7e-b1fe-30c87b9a52ed      386          1   2010.51   \n",
       "5  02406387-ff72-4721-93d8-f102e869c4b7      725          1    859.60   \n",
       "6  03693cb7-c0c4-4d76-9b8e-4326b964e2b6      645          1   3061.52   \n",
       "7  03e71c3f-6f5e-441b-971d-000721a0651d      366          1    196.39   \n",
       "8  048dcc59-2b7a-4edb-8d7b-1b847411b658      458          1   3116.00   \n",
       "9  04e780a1-dcff-4fc5-8f2a-7ed055f27220      600          1   2180.56   \n",
       "\n",
       "  Recency_Segment Frequency_Segment Monetary_Segment  \\\n",
       "0       Low-Value               Low           Medium   \n",
       "1      High-Value               Low        Very High   \n",
       "2       Low-Value               Low             High   \n",
       "3    Medium-Value               Low        Very High   \n",
       "4       Low-Value               Low             High   \n",
       "5         At-Risk               Low           Medium   \n",
       "6         At-Risk               Low        Very High   \n",
       "7       Low-Value               Low              Low   \n",
       "8       Low-Value               Low        Very High   \n",
       "9         At-Risk               Low        Very High   \n",
       "\n",
       "                Customer_Segment  \n",
       "0        RLow-Value-FLow-MMedium  \n",
       "1    RHigh-Value-FLow-MVery High  \n",
       "2          RLow-Value-FLow-MHigh  \n",
       "3  RMedium-Value-FLow-MVery High  \n",
       "4          RLow-Value-FLow-MHigh  \n",
       "5          RAt-Risk-FLow-MMedium  \n",
       "6       RAt-Risk-FLow-MVery High  \n",
       "7           RLow-Value-FLow-MLow  \n",
       "8     RLow-Value-FLow-MVery High  \n",
       "9       RAt-Risk-FLow-MVery High  "
      ]
     },
     "execution_count": 55,
     "metadata": {},
     "output_type": "execute_result"
    }
   ],
   "source": [
    "# Define thresholds for segmentation (these can be adjusted based on data distribution)\n",
    "# Segment based on quantiles for simplicity\n",
    "\n",
    "quantiles = rfm_data.quantile(q=[0.25, 0.5, 0.75]).to_dict()\n",
    "\n",
    "# Functions to segment customers based on RFM metrics\n",
    "def r_score(x):\n",
    "    if x <= quantiles['Recency'][0.25]:\n",
    "        return 'High-Value'\n",
    "    elif x <= quantiles['Recency'][0.5]:\n",
    "        return 'Medium-Value'\n",
    "    elif x <= quantiles['Recency'][0.75]:\n",
    "        return 'Low-Value'\n",
    "    else:\n",
    "        return 'At-Risk'\n",
    "\n",
    "def fm_score(x, metric):\n",
    "    if x <= quantiles[metric][0.25]:\n",
    "        return 'Low'\n",
    "    elif x <= quantiles[metric][0.5]:\n",
    "        return 'Medium'\n",
    "    elif x <= quantiles[metric][0.75]:\n",
    "        return 'High'\n",
    "    else:\n",
    "        return 'Very High'\n",
    "\n",
    "# Apply the segmentation functions\n",
    "rfm_data['Recency_Segment'] = rfm_data['Recency'].apply(r_score)\n",
    "rfm_data['Frequency_Segment'] = rfm_data['Frequency'].apply(lambda x: fm_score(x, 'Frequency'))\n",
    "rfm_data['Monetary_Segment'] = rfm_data['Monetary'].apply(lambda x: fm_score(x, 'Monetary'))\n",
    "\n",
    "# Combine segments into final customer segments\n",
    "rfm_data['Customer_Segment'] = rfm_data.apply(lambda row: f\"R{row['Recency_Segment']}-F{row['Frequency_Segment']}-M{row['Monetary_Segment']}\", axis=1)\n",
    "\n",
    "# Display the first few rows of the segmented data\n",
    "rfm_data.head(10)\n"
   ]
  },
  {
   "cell_type": "code",
   "execution_count": 56,
   "id": "94715454",
   "metadata": {},
   "outputs": [
    {
     "name": "stdout",
     "output_type": "stream",
     "text": [
      "X% of the customers are High-Value Customers: 25.07%\n",
      "Y% of the total revenue comes from High-Value Customers: 22.62%\n",
      "Z% of the customers are At-Risk: 25.07%\n"
     ]
    }
   ],
   "source": [
    "import pandas as pd\n",
    "\n",
    "# Assuming 'rfm_data' is your dataframe after RFM calculation and segmentation\n",
    "\n",
    "# Total number of customers\n",
    "total_customers = len(rfm_data)\n",
    "\n",
    "# Calculate the percentage of High-Value Customers\n",
    "high_value_customers = len(rfm_data[rfm_data['Recency_Segment'] == 'High-Value'])\n",
    "x_percent = (high_value_customers / total_customers) * 100\n",
    "\n",
    "# Calculate total revenue (sum of 'Monetary' values)\n",
    "total_revenue = rfm_data['Monetary'].sum()\n",
    "\n",
    "# Calculate the revenue contribution of High-Value Customers\n",
    "high_value_revenue = rfm_data[rfm_data['Recency_Segment'] == 'High-Value']['Monetary'].sum()\n",
    "y_percent = (high_value_revenue / total_revenue) * 100\n",
    "\n",
    "# Calculate the percentage of At-Risk Customers\n",
    "at_risk_customers = len(rfm_data[rfm_data['Recency_Segment'] == 'At-Risk'])\n",
    "z_percent = (at_risk_customers / total_customers) * 100\n",
    "\n",
    "# Display the results\n",
    "print(f\"X% of the customers are High-Value Customers: {x_percent:.2f}%\")\n",
    "print(f\"Y% of the total revenue comes from High-Value Customers: {y_percent:.2f}%\")\n",
    "print(f\"Z% of the customers are At-Risk: {z_percent:.2f}%\")\n"
   ]
  },
  {
   "cell_type": "markdown",
   "id": "d51fd62f",
   "metadata": {},
   "source": [
    "# Sales Trend Analysis"
   ]
  },
  {
   "cell_type": "code",
   "execution_count": 64,
   "id": "b27f66bb",
   "metadata": {},
   "outputs": [
    {
     "data": {
      "text/plain": [
       "(   Year  Month  Total Amount\n",
       " 0  2021      8      17021.38\n",
       " 1  2021      9      19482.53\n",
       " 2  2021     10      24312.71\n",
       " 3  2021     11      28496.76\n",
       " 4  2021     12      15959.63,\n",
       "          Category  Total Amount\n",
       " 1           Books     115120.41\n",
       " 3     Electronics     101544.99\n",
       " 2        Clothing      94677.73\n",
       " 4  Home & Kitchen      92568.42\n",
       " 0     Accessories      87386.95,\n",
       "   Region  Total Amount\n",
       " 0   East     140332.35\n",
       " 2  South     128528.63\n",
       " 1  North     116418.31\n",
       " 3   West     106019.21)"
      ]
     },
     "execution_count": 64,
     "metadata": {},
     "output_type": "execute_result"
    }
   ],
   "source": [
    "# Extract Year and Month from 'Order Date' for trend analysis\n",
    "sales_data['Year'] = sales_data['Order Date'].dt.year\n",
    "sales_data['Month'] = sales_data['Order Date'].dt.month\n",
    "\n",
    "# Aggregate total sales by year and month\n",
    "monthly_sales_trend = sales_data.groupby(['Year', 'Month'])['Total Amount'].sum().reset_index()\n",
    "\n",
    "# Best-performing product categories by total sales\n",
    "category_sales = sales_data.groupby('Category')['Total Amount'].sum().reset_index().sort_values(by='Total Amount', ascending=False)\n",
    "\n",
    "# Regional sales analysis\n",
    "regional_sales = sales_data.groupby('Region')['Total Amount'].sum().reset_index().sort_values(by='Total Amount', ascending=False)\n",
    "\n",
    "# Display the results\n",
    "monthly_sales_trend.head(), category_sales.head(), regional_sales.head()\n"
   ]
  },
  {
   "cell_type": "markdown",
   "id": "1dcc98b2",
   "metadata": {},
   "source": [
    "# Data Visualization"
   ]
  },
  {
   "cell_type": "markdown",
   "id": "46f2b8dc",
   "metadata": {},
   "source": [
    "# Line Chart for Sales Over Time:"
   ]
  },
  {
   "cell_type": "code",
   "execution_count": 59,
   "id": "6ac12525",
   "metadata": {},
   "outputs": [
    {
     "data": {
      "image/png": "[encoded data removed]",
      "text/plain": [
       "<Figure size 720x432 with 1 Axes>"
      ]
     },
     "metadata": {
      "needs_background": "light"
     },
     "output_type": "display_data"
    }
   ],
   "source": [
    "import matplotlib.pyplot as plt\n",
    "import seaborn as sns\n",
    "\n",
    "# Line chart for monthly sales trends\n",
    "plt.figure(figsize=(10, 6))\n",
    "sns.lineplot(data=monthly_sales_trend, x='Month', y='Total Amount', hue='Year')\n",
    "plt.title('Monthly Sales Trend')\n",
    "plt.xlabel('Month')\n",
    "plt.ylabel('Total Sales')\n",
    "plt.show()"
   ]
  },
  {
   "cell_type": "markdown",
   "id": "011924c2",
   "metadata": {},
   "source": [
    "# Bar Chart for Top Product Categories:"
   ]
  },
  {
   "cell_type": "code",
   "execution_count": 65,
   "id": "363b842f",
   "metadata": {},
   "outputs": [
    {
     "data": {
      "image/png": "[encoded data removed]",
      "text/plain": [
       "<Figure size 720x432 with 1 Axes>"
      ]
     },
     "metadata": {
      "needs_background": "light"
     },
     "output_type": "display_data"
    }
   ],
   "source": [
    "# Bar chart for best-performing product categories\n",
    "plt.figure(figsize=(10, 6))\n",
    "sns.barplot(data=category_sales, x='Category', y='Total Amount')\n",
    "plt.title('Top Product Categories by Sales')\n",
    "plt.xlabel('Category')\n",
    "plt.ylabel('Total Sales')\n",
    "plt.xticks(rotation=45)\n",
    "plt.show()\n"
   ]
  },
  {
   "cell_type": "markdown",
   "id": "738904a2",
   "metadata": {},
   "source": [
    "# Pie Chart for Regional Sales Distribution:"
   ]
  },
  {
   "cell_type": "code",
   "execution_count": 61,
   "id": "2b17ff03",
   "metadata": {},
   "outputs": [
    {
     "data": {
      "image/png": "[encoded data removed]",
      "text/plain": [
       "<Figure size 576x576 with 1 Axes>"
      ]
     },
     "metadata": {},
     "output_type": "display_data"
    }
   ],
   "source": [
    "# Pie chart for regional sales distribution\n",
    "plt.figure(figsize=(8, 8))\n",
    "plt.pie(regional_sales['Total Amount'], labels=regional_sales['Region'], autopct='%1.1f%%', startangle=140)\n",
    "plt.title('Regional Sales Distribution')\n",
    "plt.show()"
   ]
  },
  {
   "cell_type": "markdown",
   "id": "66f7de84",
   "metadata": {},
   "source": [
    "# Let's calculate the exact percentages from the dataset for:\n",
    "- Peak sales month: A%\n",
    "- Lowest sales month: B%\n",
    "- Top-performing category: C%\n",
    "- Lowest-performing category: D%"
   ]
  },
  {
   "cell_type": "code",
   "execution_count": 69,
   "id": "0ceb0425",
   "metadata": {},
   "outputs": [
    {
     "name": "stdout",
     "output_type": "stream",
     "text": [
      "Peak sales 10.918272699794523 \n",
      "Lowest sales 6.0504947603137404 \n",
      "Top-performing category 23.431866777529347 \n",
      "Lowest-performing category 17.786936048044115\n"
     ]
    }
   ],
   "source": [
    "# Convert 'Order Date' to datetime format\n",
    "sales_data['Order Date'] = pd.to_datetime(sales_data['Order Date'])\n",
    "\n",
    "# Extract year and month for grouping\n",
    "sales_data['Year'] = sales_data['Order Date'].dt.year\n",
    "sales_data['Month'] = sales_data['Order Date'].dt.month\n",
    "\n",
    "# Group data by month and calculate the total sales\n",
    "monthly_sales = sales_data.groupby('Month')['Total Amount'].sum()\n",
    "\n",
    "# Calculate the percentage contribution of each month to the total yearly sales\n",
    "total_yearly_sales = monthly_sales.sum()\n",
    "monthly_sales_percentage = (monthly_sales / total_yearly_sales) * 100\n",
    "\n",
    "# Get A% and B%\n",
    "A_percent = monthly_sales_percentage.max()  # Peak sales percentage\n",
    "B_percent = monthly_sales_percentage.min()  # Lowest sales percentage\n",
    "\n",
    "# Group data by category and calculate the total sales\n",
    "category_sales = sales_data.groupby('Category')['Total Amount'].sum()\n",
    "\n",
    "# Calculate the percentage contribution of each category to the total sales\n",
    "total_sales = category_sales.sum()\n",
    "category_sales_percentage = (category_sales / total_sales) * 100\n",
    "\n",
    "# Get C% and D%\n",
    "C_percent = category_sales_percentage.max()  # Top-performing category percentage\n",
    "D_percent = category_sales_percentage.min()  # Lowest-performing category percentage\n",
    "\n",
    "print(f'Peak sales',A_percent,'\\nLowest sales', B_percent,'\\nTop-performing category', C_percent,'\\nLowest-performing category', D_percent)\n"
   ]
  },
  {
   "cell_type": "code",
   "execution_count": null,
   "id": "a2c5b845",
   "metadata": {},
   "outputs": [],
   "source": []
  }
 ],
 "metadata": {
  "kernelspec": {
   "display_name": "Python 3 (ipykernel)",
   "language": "python",
   "name": "python3"
  },
  "language_info": {
   "codemirror_mode": {
    "name": "ipython",
    "version": 3
   },
   "file_extension": ".py",
   "mimetype": "text/x-python",
   "name": "python",
   "nbconvert_exporter": "python",
   "pygments_lexer": "ipython3",
   "version": "3.9.7"
  }
 },
 "nbformat": 4,
 "nbformat_minor": 5
}
